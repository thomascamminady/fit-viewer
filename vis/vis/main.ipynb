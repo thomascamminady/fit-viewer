{
 "cells": [
  {
   "cell_type": "code",
   "execution_count": 1,
   "metadata": {},
   "outputs": [],
   "source": [
    "import json\n",
    "\n",
    "import altair as alt\n",
    "import polars as pl\n",
    "from fit2parquets.parser import Parser"
   ]
  },
  {
   "cell_type": "code",
   "execution_count": 2,
   "metadata": {},
   "outputs": [
    {
     "data": {
      "text/plain": [
       "RendererRegistry.enable('browser')"
      ]
     },
     "execution_count": 2,
     "metadata": {},
     "output_type": "execute_result"
    }
   ],
   "source": [
    "# https://gist.githubusercontent.com/thomascamminady/c5da0b7acb41faf6abd6c99aff10e144/raw/f2b074e2e3945c0102eceb4983eb998da1432d44/theme.json\n",
    "@alt.theme.register(\"custom_theme\", enable=True)\n",
    "def custom_theme():\n",
    "    with open(\"theme.json\", \"r\") as f:\n",
    "        return json.load(f)\n",
    "\n",
    "\n",
    "alt.data_transformers.disable_max_rows()\n",
    "alt.renderers.enable(\"browser\")\n",
    "# alt.renderers.set_embed_options(actions=False)"
   ]
  },
  {
   "cell_type": "code",
   "execution_count": 14,
   "metadata": {},
   "outputs": [],
   "source": [
    "Parser().fit2parquets(\"../TRACKR_Fenix7Pro_Race.fit\")\n",
    "df = (\n",
    "    pl.read_parquet(\"../TRACKR_Fenix7Pro_Race/record_mesgs.parquet\").unpivot(\n",
    "        index=\"timestamp\", value_name=\"value\", variable_name=\"key\"\n",
    "    )\n",
    "    # .with_columns(\n",
    "    #     (\n",
    "    #         (pl.col(\"timestamp\") - pl.col(\"timestamp\").min()).dt.total_seconds()\n",
    "    #     ).alias(\"timestamp\")\n",
    "    # )\n",
    "    # .unpivot(index=\"timestamp\")\n",
    ")"
   ]
  },
  {
   "cell_type": "code",
   "execution_count": 15,
   "metadata": {},
   "outputs": [],
   "source": [
    "brush = alt.selection_interval(encodings=[\"x\"])\n",
    "base = alt.Chart(df).add_params(brush).properties(width=800, height=200)\n",
    "\n",
    "linecolor = \"#1f77b4\"\n",
    "rulecolor = \"firebrick\"\n",
    "chart = (\n",
    "    alt.layer(\n",
    "        base.mark_line(color=linecolor).encode(\n",
    "            x=alt.X(\"timestamp:T\").title(\"Elapsed time (seconds)\"),\n",
    "            y=alt.Y(\"value:Q\").scale(zero=False).title(\"\"),\n",
    "            opacity=alt.value(0.2),\n",
    "        ),\n",
    "        base.transform_filter(brush)\n",
    "        .mark_line(color=linecolor)\n",
    "        .encode(\n",
    "            x=alt.X(\"timestamp:T\"),\n",
    "            y=alt.Y(\"value:Q\").scale(zero=False),\n",
    "            opacity=alt.value(1),\n",
    "        ),\n",
    "        base.transform_filter(brush)\n",
    "        .mark_rule(color=rulecolor, strokeDash=[5, 5])\n",
    "        .encode(\n",
    "            x=alt.X(\"min(timestamp):T\"),\n",
    "            x2=alt.X2(\"max(timestamp):T\"),\n",
    "            y=alt.Y(\"min(value):Q\").scale(zero=False),\n",
    "        ),\n",
    "        base.transform_filter(brush)\n",
    "        .mark_text(color=linecolor, dy=-50, dx=0, size=20)\n",
    "        .encode(\n",
    "            x=alt.X(\"mean(timestamp):T\"),\n",
    "            y=alt.Y(\"min(value):Q\").scale(zero=False),\n",
    "            text=alt.Text(\"mean(value):Q\", format=\".3f\"),\n",
    "        ),\n",
    "        base.transform_filter(brush)\n",
    "        .mark_text(color=rulecolor, dx=0, size=14, dy=-10)\n",
    "        .encode(\n",
    "            x=alt.X(\"mean(timestamp):T\"),\n",
    "            y=alt.Y(\"min(value):Q\").scale(zero=False),\n",
    "            text=alt.Text(\"count(value):Q\", format=\".3f\"),\n",
    "        ),\n",
    "        base.transform_filter(brush)\n",
    "        .mark_text(color=rulecolor, dx=-20, size=14, dy=-10)\n",
    "        .encode(\n",
    "            x=alt.X(\"min(timestamp):T\"),\n",
    "            y=alt.Y(\"min(value):Q\").scale(zero=False),\n",
    "            text=alt.Text(\n",
    "                \"min(timestamp):T\",\n",
    "                formatType=\"time\",\n",
    "                timeUnit=\"hoursminutesseconds\",\n",
    "            ),\n",
    "        ),\n",
    "        base.transform_filter(brush)\n",
    "        .mark_text(color=rulecolor, dx=20, size=14, dy=-10)\n",
    "        .encode(\n",
    "            x=alt.X(\"max(timestamp):T\"),\n",
    "            y=alt.Y(\"min(value):Q\").scale(zero=False),\n",
    "            text=alt.Text(\n",
    "                \"max(timestamp):T\",\n",
    "                formatType=\"time\",\n",
    "                timeUnit=\"hoursminutesseconds\",\n",
    "            ),\n",
    "        ),\n",
    "    )\n",
    "    .facet(\n",
    "        row=alt.Row(\"key:N\").header(labelOrient=\"right\", labelAngle=0),\n",
    "        spacing=25,\n",
    "    )\n",
    "    .resolve_scale(y=\"independent\", x=\"independent\")\n",
    ")\n",
    "with open(\"chart.json\", \"w\") as f:\n",
    "    d = chart.to_dict()\n",
    "    # del d[\"data\"]\n",
    "    del d[\"datasets\"]\n",
    "    f.write(json.dumps(d, indent=2))\n",
    "chart.show()"
   ]
  },
  {
   "cell_type": "code",
   "execution_count": null,
   "metadata": {},
   "outputs": [],
   "source": []
  }
 ],
 "metadata": {
  "kernelspec": {
   "display_name": "vis-c95QqXNk-py3.11",
   "language": "python",
   "name": "python3"
  },
  "language_info": {
   "codemirror_mode": {
    "name": "ipython",
    "version": 3
   },
   "file_extension": ".py",
   "mimetype": "text/x-python",
   "name": "python",
   "nbconvert_exporter": "python",
   "pygments_lexer": "ipython3",
   "version": "3.11.9"
  }
 },
 "nbformat": 4,
 "nbformat_minor": 2
}
